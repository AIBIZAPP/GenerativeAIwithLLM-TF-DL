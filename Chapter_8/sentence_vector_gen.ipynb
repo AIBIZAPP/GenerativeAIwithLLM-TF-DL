{
  "cells": [
    {
      "cell_type": "code",
      "execution_count": 1,
      "metadata": {
        "colab": {
          "base_uri": "https://localhost:8080/"
        },
        "id": "m_yEyfWTarwi",
        "outputId": "ffaf5ea5-8a49-4c2c-8908-4b8fb1be5618"
      },
      "outputs": [
        {
          "output_type": "stream",
          "name": "stdout",
          "text": [
            "[nltk_data] Downloading package punkt to /root/nltk_data...\n",
            "[nltk_data]   Package punkt is already up-to-date!\n",
            "[nltk_data] Downloading package reuters to /root/nltk_data...\n",
            "[nltk_data]   Package reuters is already up-to-date!\n"
          ]
        }
      ],
      "source": [
        "from sklearn.model_selection import train_test_split\n",
        "from tensorflow.keras.callbacks import ModelCheckpoint\n",
        "from tensorflow.keras.layers import Input\n",
        "from tensorflow.keras.layers import RepeatVector\n",
        "\n",
        "from tensorflow.keras.layers import LSTM\n",
        "from tensorflow.keras.layers import Bidirectional\n",
        "from tensorflow.keras.models import Model\n",
        "from tensorflow.keras.preprocessing import sequence\n",
        "from scipy.stats import describe\n",
        "import collections\n",
        "import matplotlib.pyplot as plt\n",
        "import nltk\n",
        "import numpy as np\n",
        "import os\n",
        "from time import gmtime, strftime\n",
        "from tensorflow.keras.callbacks import TensorBoard\n",
        "import re\n",
        "#from nltk.corpus import reuters\n",
        "# Needed to run only once\n",
        "nltk.download('punkt')\n",
        "nltk.download('reuters')\n",
        "from nltk.corpus import reuters"
      ]
    },
    {
      "cell_type": "code",
      "source": [
        "%%capture\n",
        "#!unzip /root/nltk_data/corpora/reuters.zip -d /root/nltk_data/corpora"
      ],
      "metadata": {
        "id": "mjiKJ6hNK2Xa"
      },
      "execution_count": 2,
      "outputs": []
    },
    {
      "cell_type": "code",
      "source": [
        "#!wget http://nlp.stanford.edu/data/glove.6B.zip\n",
        "#!unzip glove*.zip"
      ],
      "metadata": {
        "id": "lh1ZKtUquKnR"
      },
      "execution_count": 3,
      "outputs": []
    },
    {
      "cell_type": "code",
      "execution_count": 4,
      "metadata": {
        "id": "JFv2KQCSarwl"
      },
      "outputs": [],
      "source": [
        "def lookup_word2id(word):\n",
        "    try:\n",
        "        return word2id[word]\n",
        "    except KeyError:\n",
        "        return word2id[\"UNK\"]\n"
      ]
    },
    {
      "cell_type": "code",
      "execution_count": 5,
      "metadata": {
        "id": "7FqXpr55arwn"
      },
      "outputs": [],
      "source": [
        "def load_glove_vectors(glove_file, word2id, embed_size):\n",
        "    embedding = np.zeros((len(word2id), embed_size))\n",
        "    fglove = open(glove_file, \"rb\")\n",
        "    for line in fglove:\n",
        "        cols = line.strip().split()\n",
        "        word = cols[0].decode('utf-8')\n",
        "        if embed_size == 0:\n",
        "            embed_size = len(cols) - 1\n",
        "        if word in word2id:\n",
        "            vec = np.array([float(v) for v in cols[1:]])\n",
        "        embedding[lookup_word2id(word)] = vec\n",
        "    embedding[word2id[\"PAD\"]] = np.zeros((embed_size))\n",
        "    embedding[word2id[\"UNK\"]] = np.random.uniform(-1, 1, embed_size)\n",
        "    return embedding\n"
      ]
    },
    {
      "cell_type": "code",
      "execution_count": 6,
      "metadata": {
        "id": "vKUkMCmharwo"
      },
      "outputs": [],
      "source": [
        "def sentence_generator(X, embeddings, batch_size):\n",
        "    while True:\n",
        "        # loop once per epoch\n",
        "        num_recs = X.shape[0]\n",
        "        indices = np.random.permutation(np.arange(num_recs))\n",
        "        num_batches = num_recs // batch_size\n",
        "        for bid in range(num_batches):\n",
        "            sids = indices[bid * batch_size: (bid + 1) * batch_size]\n",
        "            Xbatch = embeddings[X[sids, :]]\n",
        "            yield Xbatch, Xbatch"
      ]
    },
    {
      "cell_type": "code",
      "execution_count": 7,
      "metadata": {
        "id": "V2WY-CXgarwp"
      },
      "outputs": [],
      "source": [
        "def compute_cosine_similarity(x, y):\n",
        "    return np.dot(x, y) / (np.linalg.norm(x, 2) * np.linalg.norm(y, 2))\n"
      ]
    },
    {
      "cell_type": "code",
      "execution_count": 8,
      "metadata": {
        "id": "9xZpwJKZarwp",
        "colab": {
          "base_uri": "https://localhost:8080/"
        },
        "outputId": "1d785e9e-9d61-43f0-8791-d8c63a160dda"
      },
      "outputs": [
        {
          "output_type": "stream",
          "name": "stdout",
          "text": [
            "building features from 0 docs\n",
            "building features from 100 docs\n",
            "building features from 200 docs\n",
            "building features from 300 docs\n",
            "building features from 400 docs\n",
            "building features from 500 docs\n",
            "building features from 600 docs\n",
            "building features from 700 docs\n",
            "building features from 800 docs\n",
            "building features from 900 docs\n",
            "building features from 1000 docs\n",
            "building features from 1100 docs\n",
            "building features from 1200 docs\n",
            "building features from 1300 docs\n",
            "building features from 1400 docs\n",
            "building features from 1500 docs\n",
            "building features from 1600 docs\n",
            "building features from 1700 docs\n",
            "building features from 1800 docs\n",
            "building features from 1900 docs\n",
            "building features from 2000 docs\n",
            "building features from 2100 docs\n",
            "building features from 2200 docs\n",
            "building features from 2300 docs\n",
            "building features from 2400 docs\n",
            "building features from 2500 docs\n",
            "building features from 2600 docs\n",
            "building features from 2700 docs\n",
            "building features from 2800 docs\n",
            "building features from 2900 docs\n",
            "building features from 3000 docs\n",
            "building features from 3100 docs\n",
            "building features from 3200 docs\n",
            "building features from 3300 docs\n",
            "building features from 3400 docs\n",
            "building features from 3500 docs\n",
            "building features from 3600 docs\n",
            "building features from 3700 docs\n",
            "building features from 3800 docs\n",
            "building features from 3900 docs\n",
            "building features from 4000 docs\n",
            "building features from 4100 docs\n",
            "building features from 4200 docs\n",
            "building features from 4300 docs\n",
            "building features from 4400 docs\n",
            "building features from 4500 docs\n",
            "building features from 4600 docs\n",
            "building features from 4700 docs\n",
            "building features from 4800 docs\n",
            "building features from 4900 docs\n",
            "building features from 5000 docs\n",
            "building features from 5100 docs\n",
            "building features from 5200 docs\n",
            "building features from 5300 docs\n",
            "building features from 5400 docs\n",
            "building features from 5500 docs\n",
            "building features from 5600 docs\n",
            "building features from 5700 docs\n",
            "building features from 5800 docs\n",
            "building features from 5900 docs\n",
            "building features from 6000 docs\n",
            "building features from 6100 docs\n",
            "building features from 6200 docs\n",
            "building features from 6300 docs\n",
            "building features from 6400 docs\n",
            "building features from 6500 docs\n",
            "building features from 6600 docs\n",
            "building features from 6700 docs\n",
            "building features from 6800 docs\n",
            "building features from 6900 docs\n",
            "building features from 7000 docs\n",
            "building features from 7100 docs\n",
            "building features from 7200 docs\n",
            "building features from 7300 docs\n",
            "building features from 7400 docs\n",
            "building features from 7500 docs\n",
            "building features from 7600 docs\n",
            "building features from 7700 docs\n",
            "building features from 7800 docs\n",
            "building features from 7900 docs\n",
            "building features from 8000 docs\n",
            "building features from 8100 docs\n",
            "building features from 8200 docs\n",
            "building features from 8300 docs\n",
            "building features from 8400 docs\n",
            "building features from 8500 docs\n",
            "building features from 8600 docs\n",
            "building features from 8700 docs\n",
            "building features from 8800 docs\n",
            "building features from 8900 docs\n",
            "building features from 9000 docs\n",
            "building features from 9100 docs\n",
            "building features from 9200 docs\n",
            "building features from 9300 docs\n",
            "building features from 9400 docs\n",
            "building features from 9500 docs\n",
            "building features from 9600 docs\n",
            "building features from 9700 docs\n",
            "building features from 9800 docs\n",
            "building features from 9900 docs\n",
            "building features from 10000 docs\n",
            "building features from 10100 docs\n",
            "building features from 10200 docs\n",
            "building features from 10300 docs\n",
            "building features from 10400 docs\n",
            "building features from 10500 docs\n",
            "building features from 10600 docs\n",
            "building features from 10700 docs\n"
          ]
        }
      ],
      "source": [
        "def is_number(n):\n",
        "    temp = re.sub(\"[.,-/]\", \"\",n)\n",
        "    return temp.isdigit()\n",
        "\n",
        "# parsing sentences and building vocabulary\n",
        "word_freqs = collections.Counter()\n",
        "documents = reuters.fileids()\n",
        "#ftext = open(\"text.tsv\", \"r\")\n",
        "sents = []\n",
        "sent_lens = []\n",
        "num_read = 0\n",
        "for i in range(len(documents)):\n",
        "    # periodic heartbeat report\n",
        "    if num_read % 100 == 0:\n",
        "        print(\"building features from {:d} docs\".format(num_read))\n",
        "    # skip docs without specified topic\n",
        "    title_body = reuters.raw(documents[i]).lower()\n",
        "    if len(title_body) == 0:\n",
        "        continue\n",
        "    num_read += 1\n",
        "    # convert to list of word indexes\n",
        "    title_body = re.sub(\"\\n\", \"\", title_body)\n",
        "    for sent in nltk.sent_tokenize(title_body):\n",
        "        for word in nltk.word_tokenize(sent):\n",
        "            if is_number(word):\n",
        "                word = \"9\"\n",
        "            word = word.lower()\n",
        "            word_freqs[word] += 1\n",
        "        sents.append(sent)\n",
        "        sent_lens.append(len(sent))\n",
        "\n",
        "#ftext.close()"
      ]
    },
    {
      "cell_type": "code",
      "execution_count": 9,
      "metadata": {
        "id": "MsHYv-ararwq",
        "outputId": "633a1f93-ff64-44e8-cd16-b10e172f6a27",
        "colab": {
          "base_uri": "https://localhost:8080/"
        }
      },
      "outputs": [
        {
          "output_type": "stream",
          "name": "stdout",
          "text": [
            "Total number of sentences are: 50470 \n",
            "Sentence distribution min 1, max 3688 , mean 167.072657, median 155.000000\n",
            "Vocab size (full) 33748\n"
          ]
        }
      ],
      "source": [
        "print(\"Total number of sentences are: {:d} \".format(len(sents)))\n",
        "print (\"Sentence distribution min {:d}, max {:d} , mean {:3f}, median {:3f}\".\n",
        "      format(np.min(sent_lens), np.max(sent_lens), np.mean(sent_lens), np.median(sent_lens)))\n",
        "print(\"Vocab size (full) {:d}\".format(len(word_freqs)))\n"
      ]
    },
    {
      "cell_type": "code",
      "execution_count": 10,
      "metadata": {
        "id": "dk1kXyQMarwr"
      },
      "outputs": [],
      "source": [
        "VOCAB_SIZE = 5000\n",
        "EMBED_SIZE = 50\n",
        "LATENT_SIZE = 512\n",
        "SEQUENCE_LEN = 50\n",
        "\n",
        "BATCH_SIZE = 64\n",
        "NUM_EPOCHS = 20\n"
      ]
    },
    {
      "cell_type": "code",
      "execution_count": 11,
      "metadata": {
        "id": "ncjPXlyoarwt",
        "outputId": "f5b46b9b-fb2a-441c-b01d-f66e8e3e49b0",
        "colab": {
          "base_uri": "https://localhost:8080/"
        }
      },
      "outputs": [
        {
          "output_type": "stream",
          "name": "stdout",
          "text": [
            "vocabulary sizes: 5000 5000\n",
            "(5000, 50)\n",
            "number of sentences:  50470\n",
            "(35329, 50) (15141, 50)\n"
          ]
        }
      ],
      "source": [
        "# word2id = collections.defaultdict(lambda: 1)\n",
        "word2id = {}\n",
        "word2id[\"PAD\"] = 0\n",
        "word2id[\"UNK\"] = 1\n",
        "for v, (k, _) in enumerate(word_freqs.most_common(VOCAB_SIZE - 2)):\n",
        "    word2id[k] = v + 2\n",
        "id2word = {v: k for k, v in word2id.items()}\n",
        "\n",
        "print(\"vocabulary sizes:\", len(word2id), len(id2word))\n",
        "\n",
        "sent_wids = [[lookup_word2id(w) for w in s.split()] for s in sents]\n",
        "sent_wids = sequence.pad_sequences(sent_wids, SEQUENCE_LEN)\n",
        "\n",
        "# load glove vectors into weight matrix\n",
        "embeddings = load_glove_vectors(\"glove.6B.{:d}d.txt\".format(EMBED_SIZE), word2id, EMBED_SIZE)\n",
        "print(embeddings.shape)\n",
        "\n",
        "# split sentences into training and test\n",
        "train_size = 0.7\n",
        "Xtrain, Xtest = train_test_split(sent_wids, train_size=train_size)\n",
        "print(\"number of sentences: \", len(sent_wids))\n",
        "print(Xtrain.shape, Xtest.shape)"
      ]
    },
    {
      "cell_type": "code",
      "execution_count": 12,
      "metadata": {
        "id": "q3OGY_x-arwv"
      },
      "outputs": [],
      "source": [
        "# define training and test generators\n",
        "train_gen = sentence_generator(Xtrain, embeddings, BATCH_SIZE)\n",
        "test_gen = sentence_generator(Xtest, embeddings, BATCH_SIZE)"
      ]
    },
    {
      "cell_type": "code",
      "execution_count": 13,
      "metadata": {
        "id": "YVjZgxgLarww"
      },
      "outputs": [],
      "source": [
        "# define autoencoder network\n",
        "inputs = Input(shape=(SEQUENCE_LEN, EMBED_SIZE), name=\"input\")\n",
        "encoded = Bidirectional(LSTM(LATENT_SIZE), merge_mode=\"sum\",\n",
        "                        name=\"encoder_lstm\")(inputs)\n",
        "decoded = RepeatVector(SEQUENCE_LEN, name=\"repeater\")(encoded)\n",
        "decoded = Bidirectional(LSTM(EMBED_SIZE, return_sequences=True),\n",
        "                        merge_mode=\"sum\",\n",
        "                        name=\"decoder_lstm\")(decoded)\n",
        "\n",
        "autoencoder = Model(inputs, decoded)\n",
        "\n",
        "#tensorboard = make_tensorboard(set_dir_name='rnn')"
      ]
    },
    {
      "cell_type": "code",
      "execution_count": 14,
      "metadata": {
        "id": "hTw03fIHarwx",
        "outputId": "74764c89-b2e4-4b49-ba45-d1fb557c486e",
        "colab": {
          "base_uri": "https://localhost:8080/"
        }
      },
      "outputs": [
        {
          "output_type": "stream",
          "name": "stderr",
          "text": [
            "/usr/local/lib/python3.7/dist-packages/ipykernel_launcher.py:13: UserWarning: `Model.fit_generator` is deprecated and will be removed in a future version. Please use `Model.fit`, which supports generators.\n",
            "  del sys.path[0]\n"
          ]
        },
        {
          "output_type": "stream",
          "name": "stdout",
          "text": [
            "Epoch 1/20\n",
            "552/552 [==============================] - 25s 34ms/step - loss: 0.1842 - val_loss: 0.1721\n",
            "Epoch 2/20\n",
            "552/552 [==============================] - 18s 32ms/step - loss: 0.1697 - val_loss: 0.1655\n",
            "Epoch 3/20\n",
            "552/552 [==============================] - 18s 32ms/step - loss: 0.1652 - val_loss: 0.1628\n",
            "Epoch 4/20\n",
            "552/552 [==============================] - 18s 32ms/step - loss: 0.1621 - val_loss: 0.1592\n",
            "Epoch 5/20\n",
            "552/552 [==============================] - 18s 32ms/step - loss: 0.1591 - val_loss: 0.1566\n",
            "Epoch 6/20\n",
            "552/552 [==============================] - 18s 32ms/step - loss: 0.1561 - val_loss: 0.1533\n",
            "Epoch 7/20\n",
            "552/552 [==============================] - 18s 34ms/step - loss: 0.1538 - val_loss: 0.1519\n",
            "Epoch 8/20\n",
            "552/552 [==============================] - 18s 32ms/step - loss: 0.1514 - val_loss: 0.1492\n",
            "Epoch 9/20\n",
            "552/552 [==============================] - 18s 32ms/step - loss: 0.1495 - val_loss: 0.1476\n",
            "Epoch 10/20\n",
            "552/552 [==============================] - 18s 32ms/step - loss: 0.1479 - val_loss: 0.1464\n",
            "Epoch 11/20\n",
            "552/552 [==============================] - 18s 32ms/step - loss: 0.1465 - val_loss: 0.1449\n",
            "Epoch 12/20\n",
            "552/552 [==============================] - 18s 32ms/step - loss: 0.1453 - val_loss: 0.1434\n",
            "Epoch 13/20\n",
            "552/552 [==============================] - 18s 32ms/step - loss: 0.1443 - val_loss: 0.1427\n",
            "Epoch 14/20\n",
            "552/552 [==============================] - 18s 32ms/step - loss: 0.1431 - val_loss: 0.1426\n",
            "Epoch 15/20\n",
            "552/552 [==============================] - 18s 32ms/step - loss: 0.1423 - val_loss: 0.1421\n",
            "Epoch 16/20\n",
            "552/552 [==============================] - 18s 32ms/step - loss: 0.1413 - val_loss: 0.1390\n",
            "Epoch 17/20\n",
            "552/552 [==============================] - 18s 32ms/step - loss: 0.1407 - val_loss: 0.1406\n",
            "Epoch 18/20\n",
            "552/552 [==============================] - 18s 32ms/step - loss: 0.1396 - val_loss: 0.1374\n",
            "Epoch 19/20\n",
            "552/552 [==============================] - 18s 32ms/step - loss: 0.1380 - val_loss: 0.1361\n",
            "Epoch 20/20\n",
            "552/552 [==============================] - 18s 32ms/step - loss: 0.1367 - val_loss: 0.1389\n"
          ]
        }
      ],
      "source": [
        "autoencoder.compile(optimizer=\"adam\", loss=\"mse\")\n",
        "\n",
        "# train\n",
        "num_train_steps = len(Xtrain) // BATCH_SIZE\n",
        "num_test_steps = len(Xtest) // BATCH_SIZE\n",
        "#checkpoint = ModelCheckpoint(\n",
        "#   filepath=os.path.join(DATA_DIR, \"sent-thoughts-autoencoder.h5\"),\n",
        "#    save_best_only=True)\n",
        "history = autoencoder.fit_generator(train_gen,\n",
        "                                    steps_per_epoch=num_train_steps,\n",
        "                                    epochs=NUM_EPOCHS,\n",
        "                                    validation_data=test_gen,\n",
        "                                    validation_steps=num_test_steps) \n",
        "                                    #callbacks=[checkpoint, tensorboard])\n"
      ]
    },
    {
      "cell_type": "code",
      "execution_count": 15,
      "metadata": {
        "id": "PB_gcDO9arwx"
      },
      "outputs": [],
      "source": [
        "# collect autoencoder predictions for test set\n",
        "test_inputs, test_labels = next(test_gen)\n",
        "preds = autoencoder.predict(test_inputs)\n",
        "\n",
        "# extract encoder part from autoencoder\n",
        "encoder = Model(autoencoder.input,\n",
        "                autoencoder.get_layer(\"encoder_lstm\").output)\n",
        "# encoder.summary()\n"
      ]
    },
    {
      "cell_type": "code",
      "execution_count": 16,
      "metadata": {
        "id": "7MLh5g98arwx",
        "outputId": "217ad342-fdf6-474f-8b22-195994a05ad7",
        "colab": {
          "base_uri": "https://localhost:8080/",
          "height": 297
        }
      },
      "outputs": [
        {
          "output_type": "execute_result",
          "data": {
            "text/plain": [
              "<matplotlib.legend.Legend at 0x7f675140d0d0>"
            ]
          },
          "metadata": {},
          "execution_count": 16
        },
        {
          "output_type": "display_data",
          "data": {
            "image/png": "[encoded data removed]",
            "text/plain": [
              "<Figure size 432x288 with 1 Axes>"
            ]
          },
          "metadata": {
            "needs_background": "light"
          }
        }
      ],
      "source": [
        "plt.plot(history.history[\"loss\"], label = \"training loss\")\n",
        "plt.plot(history.history[\"val_loss\"], label = \"validation loss\")\n",
        "plt.xlabel(\"epochs\")\n",
        "plt.ylabel(\"Loss\")\n",
        "plt.legend()"
      ]
    },
    {
      "cell_type": "code",
      "execution_count": 17,
      "metadata": {
        "id": "i9zWZrxZarwz",
        "outputId": "b526cd55-957b-4ba8-d4a3-d046e8518e83",
        "colab": {
          "base_uri": "https://localhost:8080/"
        }
      },
      "outputs": [
        {
          "output_type": "stream",
          "name": "stdout",
          "text": [
            "0.9765363335609436\n",
            "0.9862152338027954\n",
            "0.9831727743148804\n",
            "0.977733314037323\n",
            "0.9851642847061157\n",
            "0.9849132895469666\n",
            "0.9831638932228088\n",
            "0.9843543767929077\n",
            "0.9825796484947205\n",
            "0.9877195954322815\n",
            "0.9820773601531982\n"
          ]
        }
      ],
      "source": [
        "# compute difference between vector produced by original and autoencoded\n",
        "k = 500\n",
        "cosims = np.zeros((k))\n",
        "i = 0\n",
        "for bid in range(num_test_steps):\n",
        "    xtest, ytest = next(test_gen)\n",
        "    ytest_ = autoencoder.predict(xtest)\n",
        "    Xvec = encoder.predict(xtest)\n",
        "    Yvec = encoder.predict(ytest_)\n",
        "    for rid in range(Xvec.shape[0]):\n",
        "        if i >= k:\n",
        "            break\n",
        "        cosims[i] = compute_cosine_similarity(Xvec[rid], Yvec[rid])\n",
        "        if i <= 10:\n",
        "            print(cosims[i])\n",
        "        i += 1\n",
        "    if i >= k:\n",
        "        break"
      ]
    },
    {
      "cell_type": "code",
      "execution_count": 18,
      "metadata": {
        "id": "ich5QuoCarwz",
        "outputId": "efed0504-79a3-4b96-9e98-e05ac2b7fc8a",
        "colab": {
          "base_uri": "https://localhost:8080/",
          "height": 279
        }
      },
      "outputs": [
        {
          "output_type": "display_data",
          "data": {
            "image/png": "[encoded data removed]",
            "text/plain": [
              "<Figure size 432x288 with 1 Axes>"
            ]
          },
          "metadata": {
            "needs_background": "light"
          }
        }
      ],
      "source": [
        "plt.hist(cosims, bins=10, density=True)\n",
        "plt.xlabel(\"cosine similarity\")\n",
        "plt.ylabel(\"frequency\")\n",
        "plt.show()"
      ]
    },
    {
      "cell_type": "code",
      "execution_count": 18,
      "metadata": {
        "id": "N2A1i8ccarwz"
      },
      "outputs": [],
      "source": [
        ""
      ]
    }
  ],
  "metadata": {
    "kernelspec": {
      "display_name": "Python 3",
      "name": "python3"
    },
    "language_info": {
      "name": "python"
    },
    "colab": {
      "name": "sentence_vector_gen.ipynb",
      "provenance": []
    },
    "accelerator": "GPU"
  },
  "nbformat": 4,
  "nbformat_minor": 0
}