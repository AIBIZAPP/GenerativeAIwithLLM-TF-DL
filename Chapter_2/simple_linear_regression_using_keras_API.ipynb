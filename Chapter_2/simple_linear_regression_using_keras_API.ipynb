{
  "nbformat": 4,
  "nbformat_minor": 0,
  "metadata": {
    "colab": {
      "name": "simple_linear_regression_using_keras_API.ipynb",
      "provenance": []
    },
    "kernelspec": {
      "name": "python3",
      "display_name": "Python 3"
    },
    "language_info": {
      "name": "python"
    }
  },
  "cells": [
    {
      "cell_type": "code",
      "execution_count": 1,
      "metadata": {
        "id": "dSwpGifpB7W9"
      },
      "outputs": [],
      "source": [
        "import tensorflow as tf\n",
        "import numpy as np\n",
        "import matplotlib.pyplot as plt\n",
        "import pandas as pd\n",
        "import tensorflow.keras as K\n",
        "from tensorflow.keras.layers import Dense"
      ]
    },
    {
      "cell_type": "code",
      "source": [
        "#Generate a random data\n",
        "np.random.seed(0)\n",
        "area = 2.5 * np.random.randn(100) + 25\n",
        "price = 25 * area + 5 + np.random.randint(20,50, size = len(area))\n",
        "data = np.array([area, price])\n",
        "data = pd.DataFrame(data = data.T, columns=['area','price'])\n",
        "plt.scatter(data['area'], data['price'])\n",
        "plt.show()"
      ],
      "metadata": {
        "colab": {
          "base_uri": "https://localhost:8080/",
          "height": 265
        },
        "id": "t5PZJH8iCFma",
        "outputId": "f985216c-90da-4548-f5fe-25d769791ba8"
      },
      "execution_count": 2,
      "outputs": [
        {
          "output_type": "display_data",
          "data": {
            "image/png": "[encoded data removed]",
            "text/plain": [
              "<Figure size 432x288 with 1 Axes>"
            ]
          },
          "metadata": {
            "needs_background": "light"
          }
        }
      ]
    },
    {
      "cell_type": "code",
      "source": [
        "data = (data - data.min()) / (data.max() - data.min())  #Normalize"
      ],
      "metadata": {
        "id": "_1MDPuLTW2Wy"
      },
      "execution_count": 3,
      "outputs": []
    },
    {
      "cell_type": "code",
      "source": [
        "model = K.Sequential([\n",
        "                      #normalizer,\n",
        "                      Dense(1, input_shape = [1,], activation=None)\n",
        "])\n",
        "model.summary()"
      ],
      "metadata": {
        "colab": {
          "base_uri": "https://localhost:8080/"
        },
        "id": "vfy1amXuCHBD",
        "outputId": "0f70c62f-eabe-4389-8684-530ce4113e34"
      },
      "execution_count": 4,
      "outputs": [
        {
          "output_type": "stream",
          "name": "stdout",
          "text": [
            "Model: \"sequential\"\n",
            "_________________________________________________________________\n",
            " Layer (type)                Output Shape              Param #   \n",
            "=================================================================\n",
            " dense (Dense)               (None, 1)                 2         \n",
            "                                                                 \n",
            "=================================================================\n",
            "Total params: 2\n",
            "Trainable params: 2\n",
            "Non-trainable params: 0\n",
            "_________________________________________________________________\n"
          ]
        }
      ]
    },
    {
      "cell_type": "code",
      "source": [
        "model.compile(loss='mean_squared_error', optimizer='sgd')"
      ],
      "metadata": {
        "id": "lPF_CS2qCNjI"
      },
      "execution_count": 5,
      "outputs": []
    },
    {
      "cell_type": "code",
      "source": [
        "model.fit(x=data['area'],y=data['price'], epochs=100, batch_size=32, verbose=1, validation_split=0.2)"
      ],
      "metadata": {
        "colab": {
          "base_uri": "https://localhost:8080/"
        },
        "id": "AFVBcartVIrg",
        "outputId": "7088dd5c-bb83-45b7-f88f-48a764cb94e9"
      },
      "execution_count": 6,
      "outputs": [
        {
          "output_type": "stream",
          "name": "stdout",
          "text": [
            "Epoch 1/100\n",
            "3/3 [==============================] - 0s 78ms/step - loss: 1.2643 - val_loss: 1.4828\n",
            "Epoch 2/100\n",
            "3/3 [==============================] - 0s 13ms/step - loss: 1.0987 - val_loss: 1.3029\n",
            "Epoch 3/100\n",
            "3/3 [==============================] - 0s 13ms/step - loss: 0.9576 - val_loss: 1.1494\n",
            "Epoch 4/100\n",
            "3/3 [==============================] - 0s 16ms/step - loss: 0.8376 - val_loss: 1.0156\n",
            "Epoch 5/100\n",
            "3/3 [==============================] - 0s 15ms/step - loss: 0.7339 - val_loss: 0.8971\n",
            "Epoch 6/100\n",
            "3/3 [==============================] - 0s 16ms/step - loss: 0.6444 - val_loss: 0.7989\n",
            "Epoch 7/100\n",
            "3/3 [==============================] - 0s 14ms/step - loss: 0.5689 - val_loss: 0.7082\n",
            "Epoch 8/100\n",
            "3/3 [==============================] - 0s 14ms/step - loss: 0.5016 - val_loss: 0.6331\n",
            "Epoch 9/100\n",
            "3/3 [==============================] - 0s 16ms/step - loss: 0.4468 - val_loss: 0.5710\n",
            "Epoch 10/100\n",
            "3/3 [==============================] - 0s 16ms/step - loss: 0.4007 - val_loss: 0.5119\n",
            "Epoch 11/100\n",
            "3/3 [==============================] - 0s 18ms/step - loss: 0.3581 - val_loss: 0.4596\n",
            "Epoch 12/100\n",
            "3/3 [==============================] - 0s 16ms/step - loss: 0.3212 - val_loss: 0.4156\n",
            "Epoch 13/100\n",
            "3/3 [==============================] - 0s 17ms/step - loss: 0.2909 - val_loss: 0.3796\n",
            "Epoch 14/100\n",
            "3/3 [==============================] - 0s 18ms/step - loss: 0.2661 - val_loss: 0.3476\n",
            "Epoch 15/100\n",
            "3/3 [==============================] - 0s 35ms/step - loss: 0.2448 - val_loss: 0.3206\n",
            "Epoch 16/100\n",
            "3/3 [==============================] - 0s 16ms/step - loss: 0.2267 - val_loss: 0.2961\n",
            "Epoch 17/100\n",
            "3/3 [==============================] - 0s 13ms/step - loss: 0.2106 - val_loss: 0.2747\n",
            "Epoch 18/100\n",
            "3/3 [==============================] - 0s 18ms/step - loss: 0.1969 - val_loss: 0.2558\n",
            "Epoch 19/100\n",
            "3/3 [==============================] - 0s 16ms/step - loss: 0.1849 - val_loss: 0.2386\n",
            "Epoch 20/100\n",
            "3/3 [==============================] - 0s 17ms/step - loss: 0.1744 - val_loss: 0.2240\n",
            "Epoch 21/100\n",
            "3/3 [==============================] - 0s 16ms/step - loss: 0.1656 - val_loss: 0.2109\n",
            "Epoch 22/100\n",
            "3/3 [==============================] - 0s 16ms/step - loss: 0.1578 - val_loss: 0.1990\n",
            "Epoch 23/100\n",
            "3/3 [==============================] - 0s 16ms/step - loss: 0.1508 - val_loss: 0.1880\n",
            "Epoch 24/100\n",
            "3/3 [==============================] - 0s 15ms/step - loss: 0.1448 - val_loss: 0.1797\n",
            "Epoch 25/100\n",
            "3/3 [==============================] - 0s 15ms/step - loss: 0.1399 - val_loss: 0.1707\n",
            "Epoch 26/100\n",
            "3/3 [==============================] - 0s 15ms/step - loss: 0.1349 - val_loss: 0.1621\n",
            "Epoch 27/100\n",
            "3/3 [==============================] - 0s 16ms/step - loss: 0.1304 - val_loss: 0.1550\n",
            "Epoch 28/100\n",
            "3/3 [==============================] - 0s 15ms/step - loss: 0.1269 - val_loss: 0.1496\n",
            "Epoch 29/100\n",
            "3/3 [==============================] - 0s 19ms/step - loss: 0.1241 - val_loss: 0.1443\n",
            "Epoch 30/100\n",
            "3/3 [==============================] - 0s 15ms/step - loss: 0.1214 - val_loss: 0.1387\n",
            "Epoch 31/100\n",
            "3/3 [==============================] - 0s 18ms/step - loss: 0.1187 - val_loss: 0.1340\n",
            "Epoch 32/100\n",
            "3/3 [==============================] - 0s 15ms/step - loss: 0.1166 - val_loss: 0.1306\n",
            "Epoch 33/100\n",
            "3/3 [==============================] - 0s 12ms/step - loss: 0.1149 - val_loss: 0.1268\n",
            "Epoch 34/100\n",
            "3/3 [==============================] - 0s 14ms/step - loss: 0.1132 - val_loss: 0.1229\n",
            "Epoch 35/100\n",
            "3/3 [==============================] - 0s 24ms/step - loss: 0.1116 - val_loss: 0.1204\n",
            "Epoch 36/100\n",
            "3/3 [==============================] - 0s 15ms/step - loss: 0.1103 - val_loss: 0.1174\n",
            "Epoch 37/100\n",
            "3/3 [==============================] - 0s 18ms/step - loss: 0.1093 - val_loss: 0.1153\n",
            "Epoch 38/100\n",
            "3/3 [==============================] - 0s 13ms/step - loss: 0.1082 - val_loss: 0.1135\n",
            "Epoch 39/100\n",
            "3/3 [==============================] - 0s 13ms/step - loss: 0.1073 - val_loss: 0.1110\n",
            "Epoch 40/100\n",
            "3/3 [==============================] - 0s 17ms/step - loss: 0.1063 - val_loss: 0.1089\n",
            "Epoch 41/100\n",
            "3/3 [==============================] - 0s 17ms/step - loss: 0.1055 - val_loss: 0.1078\n",
            "Epoch 42/100\n",
            "3/3 [==============================] - 0s 17ms/step - loss: 0.1050 - val_loss: 0.1069\n",
            "Epoch 43/100\n",
            "3/3 [==============================] - 0s 15ms/step - loss: 0.1043 - val_loss: 0.1057\n",
            "Epoch 44/100\n",
            "3/3 [==============================] - 0s 17ms/step - loss: 0.1038 - val_loss: 0.1046\n",
            "Epoch 45/100\n",
            "3/3 [==============================] - 0s 19ms/step - loss: 0.1032 - val_loss: 0.1029\n",
            "Epoch 46/100\n",
            "3/3 [==============================] - 0s 14ms/step - loss: 0.1025 - val_loss: 0.1012\n",
            "Epoch 47/100\n",
            "3/3 [==============================] - 0s 13ms/step - loss: 0.1018 - val_loss: 0.1002\n",
            "Epoch 48/100\n",
            "3/3 [==============================] - 0s 16ms/step - loss: 0.1012 - val_loss: 0.0988\n",
            "Epoch 49/100\n",
            "3/3 [==============================] - 0s 15ms/step - loss: 0.1007 - val_loss: 0.0979\n",
            "Epoch 50/100\n",
            "3/3 [==============================] - 0s 18ms/step - loss: 0.1002 - val_loss: 0.0974\n",
            "Epoch 51/100\n",
            "3/3 [==============================] - 0s 15ms/step - loss: 0.0998 - val_loss: 0.0967\n",
            "Epoch 52/100\n",
            "3/3 [==============================] - 0s 13ms/step - loss: 0.0994 - val_loss: 0.0954\n",
            "Epoch 53/100\n",
            "3/3 [==============================] - 0s 13ms/step - loss: 0.0988 - val_loss: 0.0944\n",
            "Epoch 54/100\n",
            "3/3 [==============================] - 0s 14ms/step - loss: 0.0983 - val_loss: 0.0937\n",
            "Epoch 55/100\n",
            "3/3 [==============================] - 0s 14ms/step - loss: 0.0979 - val_loss: 0.0928\n",
            "Epoch 56/100\n",
            "3/3 [==============================] - 0s 14ms/step - loss: 0.0974 - val_loss: 0.0923\n",
            "Epoch 57/100\n",
            "3/3 [==============================] - 0s 18ms/step - loss: 0.0971 - val_loss: 0.0916\n",
            "Epoch 58/100\n",
            "3/3 [==============================] - 0s 20ms/step - loss: 0.0966 - val_loss: 0.0908\n",
            "Epoch 59/100\n",
            "3/3 [==============================] - 0s 16ms/step - loss: 0.0962 - val_loss: 0.0900\n",
            "Epoch 60/100\n",
            "3/3 [==============================] - 0s 21ms/step - loss: 0.0958 - val_loss: 0.0897\n",
            "Epoch 61/100\n",
            "3/3 [==============================] - 0s 13ms/step - loss: 0.0954 - val_loss: 0.0891\n",
            "Epoch 62/100\n",
            "3/3 [==============================] - 0s 15ms/step - loss: 0.0950 - val_loss: 0.0885\n",
            "Epoch 63/100\n",
            "3/3 [==============================] - 0s 14ms/step - loss: 0.0947 - val_loss: 0.0876\n",
            "Epoch 64/100\n",
            "3/3 [==============================] - 0s 16ms/step - loss: 0.0941 - val_loss: 0.0872\n",
            "Epoch 65/100\n",
            "3/3 [==============================] - 0s 17ms/step - loss: 0.0938 - val_loss: 0.0864\n",
            "Epoch 66/100\n",
            "3/3 [==============================] - 0s 18ms/step - loss: 0.0935 - val_loss: 0.0854\n",
            "Epoch 67/100\n",
            "3/3 [==============================] - 0s 15ms/step - loss: 0.0930 - val_loss: 0.0847\n",
            "Epoch 68/100\n",
            "3/3 [==============================] - 0s 15ms/step - loss: 0.0927 - val_loss: 0.0844\n",
            "Epoch 69/100\n",
            "3/3 [==============================] - 0s 15ms/step - loss: 0.0922 - val_loss: 0.0842\n",
            "Epoch 70/100\n",
            "3/3 [==============================] - 0s 13ms/step - loss: 0.0919 - val_loss: 0.0840\n",
            "Epoch 71/100\n",
            "3/3 [==============================] - 0s 14ms/step - loss: 0.0915 - val_loss: 0.0837\n",
            "Epoch 72/100\n",
            "3/3 [==============================] - 0s 14ms/step - loss: 0.0911 - val_loss: 0.0830\n",
            "Epoch 73/100\n",
            "3/3 [==============================] - 0s 15ms/step - loss: 0.0907 - val_loss: 0.0828\n",
            "Epoch 74/100\n",
            "3/3 [==============================] - 0s 16ms/step - loss: 0.0904 - val_loss: 0.0824\n",
            "Epoch 75/100\n",
            "3/3 [==============================] - 0s 17ms/step - loss: 0.0900 - val_loss: 0.0820\n",
            "Epoch 76/100\n",
            "3/3 [==============================] - 0s 15ms/step - loss: 0.0897 - val_loss: 0.0815\n",
            "Epoch 77/100\n",
            "3/3 [==============================] - 0s 13ms/step - loss: 0.0893 - val_loss: 0.0810\n",
            "Epoch 78/100\n",
            "3/3 [==============================] - 0s 14ms/step - loss: 0.0889 - val_loss: 0.0805\n",
            "Epoch 79/100\n",
            "3/3 [==============================] - 0s 13ms/step - loss: 0.0886 - val_loss: 0.0805\n",
            "Epoch 80/100\n",
            "3/3 [==============================] - 0s 13ms/step - loss: 0.0882 - val_loss: 0.0799\n",
            "Epoch 81/100\n",
            "3/3 [==============================] - 0s 17ms/step - loss: 0.0879 - val_loss: 0.0793\n",
            "Epoch 82/100\n",
            "3/3 [==============================] - 0s 15ms/step - loss: 0.0875 - val_loss: 0.0790\n",
            "Epoch 83/100\n",
            "3/3 [==============================] - 0s 16ms/step - loss: 0.0871 - val_loss: 0.0788\n",
            "Epoch 84/100\n",
            "3/3 [==============================] - 0s 17ms/step - loss: 0.0869 - val_loss: 0.0787\n",
            "Epoch 85/100\n",
            "3/3 [==============================] - 0s 20ms/step - loss: 0.0864 - val_loss: 0.0783\n",
            "Epoch 86/100\n",
            "3/3 [==============================] - 0s 14ms/step - loss: 0.0861 - val_loss: 0.0781\n",
            "Epoch 87/100\n",
            "3/3 [==============================] - 0s 16ms/step - loss: 0.0857 - val_loss: 0.0781\n",
            "Epoch 88/100\n",
            "3/3 [==============================] - 0s 15ms/step - loss: 0.0854 - val_loss: 0.0776\n",
            "Epoch 89/100\n",
            "3/3 [==============================] - 0s 15ms/step - loss: 0.0850 - val_loss: 0.0774\n",
            "Epoch 90/100\n",
            "3/3 [==============================] - 0s 15ms/step - loss: 0.0847 - val_loss: 0.0769\n",
            "Epoch 91/100\n",
            "3/3 [==============================] - 0s 19ms/step - loss: 0.0845 - val_loss: 0.0770\n",
            "Epoch 92/100\n",
            "3/3 [==============================] - 0s 18ms/step - loss: 0.0841 - val_loss: 0.0767\n",
            "Epoch 93/100\n",
            "3/3 [==============================] - 0s 15ms/step - loss: 0.0837 - val_loss: 0.0761\n",
            "Epoch 94/100\n",
            "3/3 [==============================] - 0s 14ms/step - loss: 0.0834 - val_loss: 0.0758\n",
            "Epoch 95/100\n",
            "3/3 [==============================] - 0s 14ms/step - loss: 0.0831 - val_loss: 0.0758\n",
            "Epoch 96/100\n",
            "3/3 [==============================] - 0s 22ms/step - loss: 0.0827 - val_loss: 0.0755\n",
            "Epoch 97/100\n",
            "3/3 [==============================] - 0s 17ms/step - loss: 0.0824 - val_loss: 0.0750\n",
            "Epoch 98/100\n",
            "3/3 [==============================] - 0s 14ms/step - loss: 0.0821 - val_loss: 0.0747\n",
            "Epoch 99/100\n",
            "3/3 [==============================] - 0s 21ms/step - loss: 0.0818 - val_loss: 0.0740\n",
            "Epoch 100/100\n",
            "3/3 [==============================] - 0s 15ms/step - loss: 0.0815 - val_loss: 0.0740\n"
          ]
        },
        {
          "output_type": "execute_result",
          "data": {
            "text/plain": [
              "<keras.callbacks.History at 0x7f7228d6a790>"
            ]
          },
          "metadata": {},
          "execution_count": 6
        }
      ]
    },
    {
      "cell_type": "code",
      "source": [
        "y_pred = model.predict(data['area'])"
      ],
      "metadata": {
        "id": "jE2w6574Y0pD"
      },
      "execution_count": 7,
      "outputs": []
    },
    {
      "cell_type": "code",
      "source": [
        "plt.plot(data['area'], y_pred, color='red',label=\"Predicted Price\")\n",
        "plt.scatter(data['area'], data['price'], label=\"Training Data\")\n",
        "plt.xlabel(\"Area\")\n",
        "plt.ylabel(\"Price\")\n",
        "plt.legend()"
      ],
      "metadata": {
        "colab": {
          "base_uri": "https://localhost:8080/",
          "height": 297
        },
        "id": "LDFVIsvYCRS4",
        "outputId": "b6d79be1-2f6f-411c-803f-37fcb0d62fd7"
      },
      "execution_count": 8,
      "outputs": [
        {
          "output_type": "execute_result",
          "data": {
            "text/plain": [
              "<matplotlib.legend.Legend at 0x7f7228d0b2d0>"
            ]
          },
          "metadata": {},
          "execution_count": 8
        },
        {
          "output_type": "display_data",
          "data": {
            "image/png": "[encoded data removed]",
            "text/plain": [
              "<Figure size 432x288 with 1 Axes>"
            ]
          },
          "metadata": {
            "needs_background": "light"
          }
        }
      ]
    },
    {
      "cell_type": "code",
      "source": [
        "model.weights"
      ],
      "metadata": {
        "id": "bN433O3bCVmH",
        "colab": {
          "base_uri": "https://localhost:8080/"
        },
        "outputId": "6f44e9cc-39ce-41b3-f499-7daae44449d5"
      },
      "execution_count": 9,
      "outputs": [
        {
          "output_type": "execute_result",
          "data": {
            "text/plain": [
              "[<tf.Variable 'dense/kernel:0' shape=(1, 1) dtype=float32, numpy=array([[-0.33806288]], dtype=float32)>,\n",
              " <tf.Variable 'dense/bias:0' shape=(1,) dtype=float32, numpy=array([0.68142694], dtype=float32)>]"
            ]
          },
          "metadata": {},
          "execution_count": 9
        }
      ]
    },
    {
      "cell_type": "code",
      "source": [
        ""
      ],
      "metadata": {
        "id": "nb22K749kzVK"
      },
      "execution_count": 9,
      "outputs": []
    }
  ]
}