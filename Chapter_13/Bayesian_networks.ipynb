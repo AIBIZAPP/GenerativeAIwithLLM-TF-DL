{
  "nbformat": 4,
  "nbformat_minor": 0,
  "metadata": {
    "colab": {
      "name": "Bayesian_networks.ipynb",
      "provenance": [],
      "collapsed_sections": []
    },
    "kernelspec": {
      "name": "python3",
      "display_name": "Python 3"
    },
    "language_info": {
      "name": "python"
    }
  },
  "cells": [
    {
      "cell_type": "code",
      "source": [
        "from tensorflow_probability.python import distributions as tfd\n",
        "import tensorflow_probability.python.experimental.marginalize as marginalize\n",
        "import functools\n",
        "import itertools\n",
        "\n",
        "Root = tfd.JointDistributionCoroutine.Root\n",
        "def model():\n",
        "  cloudy = yield Root(tfd.Bernoulli(probs=0.2, dtype=tf.int32))\n",
        "  sprinkler_prob = [0.5, 0.1]\n",
        "  sprinkler_prob = tf.gather(sprinkler_prob, cloudy)\n",
        "  sprinkler = yield tfd.Bernoulli(probs=sprinkler_prob, dtype=tf.int32)\n",
        "  raining_prob = [0.1, 0.8]\n",
        "  raining_prob = tf.gather(raining_prob, cloudy)\n",
        "  raining = yield tfd.Bernoulli(probs=raining_prob, dtype=tf.int32)\n",
        "\n",
        "  grass_wet_prob = [[0.0, 0.8],\n",
        "                    [0.9, 0.99]]\n",
        "  grass_wet_prob = tf.gather_nd(grass_wet_prob, _stack(sprinkler, raining))\n",
        "  grass_wet = yield tfd.Bernoulli(probs=grass_wet_prob, dtype=tf.int32)\n",
        "\n",
        "\n",
        "\n",
        "def _conform(ts):\n",
        "  \"\"\"Broadcast all arguments to a common shape.\"\"\"\n",
        "\n",
        "  shape = functools.reduce(\n",
        "      tf.broadcast_static_shape, [a.shape for a in ts])\n",
        "  return [tf.broadcast_to(a, shape) for a in ts]\n",
        "\n",
        "\n",
        "def _stack(*ts):\n",
        "  return tf.stack(_conform(ts), axis=-1)"
      ],
      "metadata": {
        "id": "Lz6Tjda-uEYu"
      },
      "execution_count": 39,
      "outputs": []
    },
    {
      "cell_type": "code",
      "source": [
        "d = marginalize.MarginalizableJointDistributionCoroutine(model)\n",
        "    # We want to know the probability that it was raining\n",
        "    # and we want to marginalize over the state of the sprinkler.\n",
        "observations = ['marginalize',  # We don't know the cloudy state\n",
        "                'tabulate', # We want to know the probability it rained.\n",
        "                'marginalize',  # We don't know the sprinkler state.\n",
        "                1]              # We observed a wet lawn.\n",
        "p = tf.exp(d.marginalized_log_prob(observations))\n",
        "p = p / tf.reduce_sum(p)"
      ],
      "metadata": {
        "id": "vJ9F8nsnuHuM"
      },
      "execution_count": 44,
      "outputs": []
    },
    {
      "cell_type": "code",
      "source": [
        "p.numpy()"
      ],
      "metadata": {
        "id": "nU8bixY7uNVa",
        "colab": {
          "base_uri": "https://localhost:8080/"
        },
        "outputId": "753d9c29-51c3-4c97-fee4-aa8fe8751956"
      },
      "execution_count": 46,
      "outputs": [
        {
          "output_type": "execute_result",
          "data": {
            "text/plain": [
              "array([0.27761015, 0.72238994], dtype=float32)"
            ]
          },
          "metadata": {},
          "execution_count": 46
        }
      ]
    },
    {
      "cell_type": "code",
      "source": [
        "observations = ['marginalize',  \n",
        "                'marginalize', \n",
        "                'tabulate',  \n",
        "                1]              \n",
        "p = tf.exp(d.marginalized_log_prob(observations))\n",
        "p = p / tf.reduce_sum(p)"
      ],
      "metadata": {
        "id": "lZjAWuMxoH0r"
      },
      "execution_count": 47,
      "outputs": []
    },
    {
      "cell_type": "code",
      "source": [
        "observations = ['marginalize',  \n",
        "                0, \n",
        "                0 ,  \n",
        "                'tabulate']              \n",
        "p = tf.exp(d.marginalized_log_prob(observations))\n",
        "p = p / tf.reduce_sum(p)"
      ],
      "metadata": {
        "id": "KG3ml5mW3JaI"
      },
      "execution_count": 59,
      "outputs": []
    },
    {
      "cell_type": "code",
      "source": [
        "p"
      ],
      "metadata": {
        "colab": {
          "base_uri": "https://localhost:8080/"
        },
        "id": "NMAtuzy5smZP",
        "outputId": "bfbc3209-5705-41fa-b633-28229a7e2904"
      },
      "execution_count": 60,
      "outputs": [
        {
          "output_type": "execute_result",
          "data": {
            "text/plain": [
              "<tf.Tensor: shape=(2,), dtype=float32, numpy=array([1., 0.], dtype=float32)>"
            ]
          },
          "metadata": {},
          "execution_count": 60
        }
      ]
    },
    {
      "cell_type": "code",
      "source": [
        ""
      ],
      "metadata": {
        "id": "L50Tk7fzoEFQ"
      },
      "execution_count": null,
      "outputs": []
    }
  ]
}